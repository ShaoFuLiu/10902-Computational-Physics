{
 "cells": [
  {
   "cell_type": "markdown",
   "metadata": {},
   "source": [
    "# Computational Physics Lab::Logistic Map\n",
    "\n",
    "* Author: Pochung Chen\n",
    "* Email: pcchen@phys.nthu.edu.tw"
   ]
  },
  {
   "cell_type": "markdown",
   "metadata": {},
   "source": [
    "Consider the logic eqatuion:\n",
    "$$\n",
    "  f(\\alpha,x)=\\alpha x(1-x).\n",
    "$$\n",
    "\n",
    "The iterative equation becomes\n",
    "$$\n",
    "  x_{n+1} = \\alpha x_n (1-x_n).\n",
    "$$\n",
    "\n",
    "We will assume $x$ is restricted to the domain $(0,1)$."
   ]
  },
  {
   "cell_type": "markdown",
   "metadata": {},
   "source": [
    "### Tasks: Plot the function and find the attractor\n",
    "* Set $\\alpha=0.8$ and choose some initial point $x_0$, iterate $f$ and convince yourself that they all are attracted to zero. It might be helpful to plot $x_n$ v.s. $n$.\n",
    "* Plot $f$ and the diagonal $y=x$ on the same plot. Are there any fixed-points other than $x=0$?\n",
    "* Repeat for $\\alpha=1.2$, $\\alpha=2.8$, $\\alpha=3.2$. What happens?"
   ]
  },
  {
   "cell_type": "code",
   "execution_count": null,
   "metadata": {},
   "outputs": [],
   "source": []
  },
  {
   "cell_type": "markdown",
   "metadata": {},
   "source": [
    "### Tasks: Trajectory of the attractor\n",
    "* On the same graph, plot $f$, the diagonal $y=x$, and the trajectory $\\{x_0, x_0\\}$, $\\{x_0, f(x_0)\\}$, $\\{f(x_0), f(x_0)\\}$, $\\{f(x_0), f(fx_0)\\}$, $\\dots$ for $\\alpha=2.8, 3.2, 3.52, 3.54, 4.00$. Describe their differences."
   ]
  },
  {
   "cell_type": "code",
   "execution_count": null,
   "metadata": {},
   "outputs": [],
   "source": []
  },
  {
   "cell_type": "markdown",
   "metadata": {},
   "source": [
    "### Tasks: Bifucation diagram\n",
    "* Plot the attractor as a function of $\\alpha$ for $0<\\alpha<4$."
   ]
  },
  {
   "cell_type": "code",
   "execution_count": null,
   "metadata": {},
   "outputs": [],
   "source": []
  },
  {
   "cell_type": "markdown",
   "metadata": {},
   "source": [
    "### Tasks: \n",
    "\n",
    "Consider the case when $\\alpha=3.82831$ and $x_0=0.51$. Show that a three cycle occurs with the approximate $x$ values 0.16, 0.52, and 0.96 for the first 80 cycles before the behavior apparently turns chaotic. Find for what iteration that next apparently periodic cycle occurs and for how many cycles it stays periodic?"
   ]
  },
  {
   "cell_type": "code",
   "execution_count": null,
   "metadata": {},
   "outputs": [],
   "source": []
  },
  {
   "cell_type": "markdown",
   "metadata": {},
   "source": [
    "### Tasks: Feigenbaum number\n",
    "* Find $\\alpha_n$ where n-th bifurcation occurs. \n",
    "* Calculate\n",
    "$$\n",
    "  \\delta_n \\equiv \\frac{\\alpha_n-\\alpha_{n-1}}{\\alpha_{n+1}-\\alpha_n}\n",
    "$$\n",
    "and plot $\\delta_n$ v.s. $n$. \n",
    "* Convince yourself that $\\delta_n$ converge to the Feigenbaum number $\\delta=4.6692016091029909\\dots$."
   ]
  },
  {
   "cell_type": "markdown",
   "metadata": {},
   "source": [
    "### Tasks: Superstable\n",
    "* Find the value of $\\alpha_n$ at which the $2^n$-cycle is superstable for the first few values of $n$ as follows:\n",
    "Define \n",
    "$$\n",
    "  G(\\alpha) = f^{2^n}(\\alpha, 1/2).\n",
    "$$\n",
    "and find the root as a function of $\\alpha$. You can use scipy.optimize.brentq to find the roots of a function\n",
    "* Calculate\n",
    "$$\n",
    "  \\delta_n \\equiv \\frac{\\alpha_n-\\alpha_{n-1}}{\\alpha_{n+1}-\\alpha_n}\n",
    "$$\n",
    "and plot $\\delta_n$ v.s. $n$. \n",
    "* Convince yourself that $\\delta_n$ also converge to the Feigenbaum number $\\delta=4.6692016091029909\\dots$."
   ]
  },
  {
   "cell_type": "code",
   "execution_count": null,
   "metadata": {},
   "outputs": [],
   "source": []
  },
  {
   "cell_type": "markdown",
   "metadata": {},
   "source": [
    "### Tasks: Another map\n",
    "* Plot the attractor for the map\n",
    "$$\n",
    "  f(x) = B\\sin(\\pi x)\n",
    "$$\n",
    "for $0<B<1$.\n",
    "* Do the bifurcation diagram appear similar?\n",
    "* For this map find the superstable $\\alpha_n$ and the ratio $\\delta_n$. Does $\\delta_n$ also converge to the Feigenbaum number $\\delta=4.6692016091029909\\dots$?"
   ]
  },
  {
   "cell_type": "code",
   "execution_count": null,
   "metadata": {},
   "outputs": [],
   "source": []
  }
 ],
 "metadata": {
  "kernelspec": {
   "display_name": "Python 3",
   "language": "python",
   "name": "python3"
  },
  "language_info": {
   "codemirror_mode": {
    "name": "ipython",
    "version": 3
   },
   "file_extension": ".py",
   "mimetype": "text/x-python",
   "name": "python",
   "nbconvert_exporter": "python",
   "pygments_lexer": "ipython3",
   "version": "3.8.5"
  }
 },
 "nbformat": 4,
 "nbformat_minor": 5
}